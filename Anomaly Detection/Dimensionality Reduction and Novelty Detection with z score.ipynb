{
 "cells": [
  {
   "cell_type": "markdown",
   "metadata": {},
   "source": [
    "# Z-score outlier detection on MNIST "
   ]
  },
  {
   "cell_type": "markdown",
   "metadata": {},
   "source": [
    "- In this notebook we empirically compare t-SNE and UMAP data transformations as the pre-processing step for novelty deyection on MNIST sataset. It is a wel-know fact that using t-SNE or UMAP as a preprocessing step for k-means clustering gives good results when reducing the number of components to 2. \n",
    "\n",
    "- For that matter, the interesting point would be to compare the z-score outlier detection method based on t-SNE, UMAP and non-processed data. The test set is containing the same number of novel points as normal ones. For that reason the accuracy score is represented as the appropriate measure for the novelty detection performance."
   ]
  },
  {
   "cell_type": "code",
   "execution_count": 24,
   "metadata": {},
   "outputs": [],
   "source": [
    "from sklearn.datasets import load_digits\n",
    "from sklearn.metrics import accuracy_score\n",
    "import sklearn\n",
    "digits = load_digits()\n",
    "digits.data.shape\n",
    "data = digits.data"
   ]
  },
  {
   "cell_type": "code",
   "execution_count": 25,
   "metadata": {},
   "outputs": [],
   "source": [
    "import numpy as np\n",
    "inliers_indexes = np.where(digits.target == 2)[0]\n",
    "outlier_indexes = np.where(digits.target != 2)[0]"
   ]
  },
  {
   "cell_type": "code",
   "execution_count": 26,
   "metadata": {},
   "outputs": [
    {
     "data": {
      "text/plain": [
       "(1797, 64)"
      ]
     },
     "execution_count": 26,
     "metadata": {},
     "output_type": "execute_result"
    }
   ],
   "source": [
    "data.shape"
   ]
  },
  {
   "cell_type": "code",
   "execution_count": 27,
   "metadata": {},
   "outputs": [
    {
     "data": {
      "text/plain": [
       "(177, 64)"
      ]
     },
     "execution_count": 27,
     "metadata": {},
     "output_type": "execute_result"
    }
   ],
   "source": [
    "inliers = digits.data[inliers_indexes,:]\n",
    "inliers.shape"
   ]
  },
  {
   "cell_type": "code",
   "execution_count": 28,
   "metadata": {},
   "outputs": [
    {
     "data": {
      "text/plain": [
       "((100, 64), (77, 64))"
      ]
     },
     "execution_count": 28,
     "metadata": {},
     "output_type": "execute_result"
    }
   ],
   "source": [
    "inliers_train = inliers[:100,:]\n",
    "inliers_test = inliers[100:,:]\n",
    "inliers_train.shape, inliers_test.shape"
   ]
  },
  {
   "cell_type": "code",
   "execution_count": 29,
   "metadata": {},
   "outputs": [
    {
     "data": {
      "text/plain": [
       "((77, 64), (154, 64), (154,))"
      ]
     },
     "execution_count": 29,
     "metadata": {},
     "output_type": "execute_result"
    }
   ],
   "source": [
    "outliers = digits.data[outlier_indexes,:]\n",
    "sample_indexes = np.random.choice(outliers.shape[0], size = 77)\n",
    "outliers = outliers[sample_indexes, :]\n",
    "test = np.concatenate((inliers_test, outliers))\n",
    "labels = np.concatenate((np.zeros(inliers_test.shape[0]), np.ones(outliers.shape[0])))\n",
    "outliers.shape, test.shape, labels.shape"
   ]
  },
  {
   "cell_type": "code",
   "execution_count": 30,
   "metadata": {},
   "outputs": [
    {
     "data": {
      "text/plain": [
       "0.5"
      ]
     },
     "execution_count": 30,
     "metadata": {},
     "output_type": "execute_result"
    }
   ],
   "source": [
    "dummy_labels = np.ones(test.shape[0])\n",
    "accuracy_score(labels, dummy_labels)"
   ]
  },
  {
   "cell_type": "code",
   "execution_count": 31,
   "metadata": {},
   "outputs": [],
   "source": [
    "all_data = np.concatenate((inliers_train,test))\n",
    "all_labels = np.concatenate((np.zeros(inliers_train.shape[0]),labels))"
   ]
  },
  {
   "cell_type": "markdown",
   "metadata": {},
   "source": [
    "# Accuracy UMAP"
   ]
  },
  {
   "cell_type": "code",
   "execution_count": 32,
   "metadata": {},
   "outputs": [],
   "source": [
    "import umap\n",
    "X_umap = umap.UMAP().fit_transform(all_data)"
   ]
  },
  {
   "cell_type": "code",
   "execution_count": 33,
   "metadata": {},
   "outputs": [
    {
     "data": {
      "text/plain": [
       "(254, 2)"
      ]
     },
     "execution_count": 33,
     "metadata": {},
     "output_type": "execute_result"
    }
   ],
   "source": [
    "X_umap.shape"
   ]
  },
  {
   "cell_type": "code",
   "execution_count": 34,
   "metadata": {},
   "outputs": [
    {
     "data": {
      "image/png": "[encoded data removed]",
      "text/plain": [
       "<Figure size 432x288 with 1 Axes>"
      ]
     },
     "metadata": {
      "needs_background": "light"
     },
     "output_type": "display_data"
    }
   ],
   "source": [
    "import matplotlib.pyplot as plt\n",
    "plt.scatter(X_umap[:, 0], X_umap[:, 1], s=10, c=all_labels)\n",
    "plt.show()"
   ]
  },
  {
   "cell_type": "code",
   "execution_count": 35,
   "metadata": {},
   "outputs": [],
   "source": [
    "digits_proj = X_umap\n",
    "inliers_train_proj = digits_proj[:inliers_train.shape[0],:]\n",
    "test_proj = digits_proj[inliers_train.shape[0]:,:]"
   ]
  },
  {
   "cell_type": "code",
   "execution_count": 36,
   "metadata": {},
   "outputs": [
    {
     "name": "stdout",
     "output_type": "stream",
     "text": [
      "mean of the dataset is [9.765928  6.4217005]\n",
      "std. deviation is 2.1832328\n"
     ]
    },
    {
     "data": {
      "text/plain": [
       "0.7792207792207793"
      ]
     },
     "execution_count": 36,
     "metadata": {},
     "output_type": "execute_result"
    }
   ],
   "source": [
    "mean_vector = np.mean(inliers_train_proj, axis = 0) \n",
    "std = np.std(inliers_train_proj) \n",
    "print('mean of the dataset is', mean_vector) \n",
    "print('std. deviation is', std) \n",
    "thr = mean_vector + 3 * std\n",
    "z = (test_proj-mean_vector)/std \n",
    "z.shape\n",
    "outlier_idx = np.append(np.where(z>=2)[0], np.where(z<=-2)[0])\n",
    "outlier_idx.shape\n",
    "predicted_labels = np.zeros(test_proj.shape[0])\n",
    "predicted_labels[outlier_idx]=1\n",
    "sklearn.metrics.accuracy_score(labels, predicted_labels)"
   ]
  },
  {
   "cell_type": "markdown",
   "metadata": {},
   "source": [
    "# Accuracy with t-SNE"
   ]
  },
  {
   "cell_type": "code",
   "execution_count": 37,
   "metadata": {
    "scrolled": true
   },
   "outputs": [
    {
     "data": {
      "image/png": "[encoded data removed]",
      "text/plain": [
       "<Figure size 432x288 with 1 Axes>"
      ]
     },
     "metadata": {
      "needs_background": "light"
     },
     "output_type": "display_data"
    }
   ],
   "source": [
    "from sklearn.manifold import TSNE\n",
    "import numpy as np\n",
    "\n",
    "all_data = np.concatenate((inliers_train,test))\n",
    "all_labels = np.concatenate((np.zeros(inliers_train.shape[0]),labels))\n",
    "# Project the data: this step will take several seconds\n",
    "tsne = TSNE(n_components=2, init='random', random_state=0)\n",
    "digits_proj = tsne.fit_transform(all_data)\n",
    "inliers_train_proj = digits_proj[:inliers_train.shape[0],:]\n",
    "test_proj = digits_proj[inliers_train.shape[0]:,:]\n",
    "# Plot t-sne projection\n",
    "plt.scatter(digits_proj[:, 0], digits_proj[:, 1], s=10, c=all_labels)\n",
    "plt.show()"
   ]
  },
  {
   "cell_type": "code",
   "execution_count": 38,
   "metadata": {},
   "outputs": [
    {
     "name": "stdout",
     "output_type": "stream",
     "text": [
      "mean of the dataset is [6.851264  3.0641265]\n",
      "std. deviation is 9.0466385\n"
     ]
    }
   ],
   "source": [
    "mean_vector = np.mean(inliers_train_proj, axis = 0) \n",
    "std = np.std(inliers_train_proj) \n",
    "print('mean of the dataset is', mean_vector) \n",
    "print('std. deviation is', std) \n",
    "thr = mean_vector + 3 * std\n",
    "z = (test_proj-mean_vector)/std \n",
    "z.shape\n",
    "outlier_idx = np.append(np.where(z>=2)[0], np.where(z<=-2)[0])\n",
    "outlier_idx.shape\n",
    "predicted_labels = np.zeros(test_proj.shape[0])\n",
    "predicted_labels[outlier_idx]=1"
   ]
  },
  {
   "cell_type": "code",
   "execution_count": 39,
   "metadata": {},
   "outputs": [
    {
     "data": {
      "text/plain": [
       "0.7337662337662337"
      ]
     },
     "execution_count": 39,
     "metadata": {},
     "output_type": "execute_result"
    }
   ],
   "source": [
    "sklearn.metrics.accuracy_score(labels, predicted_labels)"
   ]
  },
  {
   "cell_type": "markdown",
   "metadata": {},
   "source": [
    "# Accuracy on original data"
   ]
  },
  {
   "cell_type": "code",
   "execution_count": 40,
   "metadata": {},
   "outputs": [
    {
     "name": "stdout",
     "output_type": "stream",
     "text": [
      "mean of the dataset is [0.000e+00 7.200e-01 8.620e+00 1.351e+01 9.750e+00 2.680e+00 1.900e-01\n",
      " 0.000e+00 0.000e+00 4.860e+00 1.365e+01 1.249e+01 1.313e+01 5.300e+00\n",
      " 6.200e-01 0.000e+00 1.000e-02 4.970e+00 8.390e+00 5.130e+00 1.234e+01\n",
      " 5.380e+00 5.100e-01 0.000e+00 0.000e+00 1.320e+00 2.430e+00 5.800e+00\n",
      " 1.273e+01 3.520e+00 1.800e-01 0.000e+00 0.000e+00 1.100e-01 1.820e+00\n",
      " 1.025e+01 1.024e+01 1.410e+00 0.000e+00 0.000e+00 0.000e+00 9.800e-01\n",
      " 6.820e+00 1.242e+01 5.680e+00 1.240e+00 9.200e-01 0.000e+00 3.000e-02\n",
      " 1.750e+00 1.140e+01 1.410e+01 1.111e+01 9.730e+00 5.640e+00 5.100e-01\n",
      " 1.000e-02 7.500e-01 8.800e+00 1.368e+01 1.373e+01 1.238e+01 7.600e+00\n",
      " 1.470e+00]\n",
      "std. deviation is 6.066715349498107\n"
     ]
    }
   ],
   "source": [
    "# accuracy in general\n",
    "mean_vector = np.mean(inliers_train, axis = 0) \n",
    "std = np.std(inliers_train) \n",
    "print('mean of the dataset is', mean_vector) \n",
    "print('std. deviation is', std) \n",
    "thr = mean_vector + 3 * std\n",
    "z = (test-mean_vector)/std \n",
    "z.shape\n",
    "outlier_idx = np.append(np.where(z>=2)[0], np.where(z<=-2)[0])\n",
    "outlier_idx.shape\n",
    "predicted_labels = np.zeros(test_proj.shape[0])\n",
    "predicted_labels[outlier_idx]=1"
   ]
  },
  {
   "cell_type": "code",
   "execution_count": 41,
   "metadata": {},
   "outputs": [
    {
     "data": {
      "text/plain": [
       "0.8961038961038961"
      ]
     },
     "execution_count": 41,
     "metadata": {},
     "output_type": "execute_result"
    }
   ],
   "source": [
    "sklearn.metrics.accuracy_score(labels, predicted_labels)"
   ]
  },
  {
   "cell_type": "markdown",
   "metadata": {},
   "source": [
    "- The main take away would be that UMAP and t-SNE are not deterministic, they give different results with every run ranging the possible accuracy values from ~70% to 90%. z-score on non-projected data provides better accuracy (retains more information about the data), and nor UMAP nor t-SNE provide the advantage by mapping the structure. \n",
    "\n",
    "- Parameter k in z score that is chosen to be 2 in our run, in the essence depends on the assumption of the normally distributed data and a priori knowledge about the number of outliers \n",
    "\n",
    "- Possible extension: applying clustering and labeling each cluster as normal or novel points depending on the closeness of the chosen cluster to the train data, as i.e. UMAP or t-SNE perform great on MNIST."
   ]
  },
  {
   "cell_type": "code",
   "execution_count": null,
   "metadata": {},
   "outputs": [],
   "source": []
  }
 ],
 "metadata": {
  "kernelspec": {
   "display_name": "Python 3",
   "language": "python",
   "name": "python3"
  },
  "language_info": {
   "codemirror_mode": {
    "name": "ipython",
    "version": 3
   },
   "file_extension": ".py",
   "mimetype": "text/x-python",
   "name": "python",
   "nbconvert_exporter": "python",
   "pygments_lexer": "ipython3",
   "version": "3.7.3"
  }
 },
 "nbformat": 4,
 "nbformat_minor": 2
}
