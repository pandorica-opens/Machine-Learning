{
 "cells": [
  {
   "cell_type": "code",
   "execution_count": 354,
   "metadata": {},
   "outputs": [],
   "source": [
    "from sklearn import svm, tree, linear_model, neighbors, naive_bayes, ensemble, discriminant_analysis, gaussian_process\n",
    "from sklearn.preprocessing import OneHotEncoder, LabelEncoder\n",
    "from sklearn import feature_selection\n",
    "from sklearn import model_selection\n",
    "from sklearn import metrics\n",
    "\n",
    "# the methods to look into during comparison\n",
    "methods = [\n",
    "    #Ensemble Methods\n",
    "    ensemble.AdaBoostClassifier(),\n",
    "    ensemble.BaggingClassifier(),\n",
    "    ensemble.ExtraTreesClassifier(),\n",
    "    ensemble.GradientBoostingClassifier(),\n",
    "    ensemble.RandomForestClassifier(),\n",
    "\n",
    "    #Gaussian Processes\n",
    "    gaussian_process.GaussianProcessClassifier(),\n",
    "    \n",
    "    #GLM\n",
    "    linear_model.LogisticRegressionCV(),\n",
    "    linear_model.PassiveAggressiveClassifier(),\n",
    "    linear_model.RidgeClassifierCV(),\n",
    "    linear_model.SGDClassifier(),\n",
    "    linear_model.Perceptron(),\n",
    "    \n",
    "    #Navies Bayes\n",
    "    naive_bayes.BernoulliNB(),\n",
    "    naive_bayes.GaussianNB(),\n",
    "    \n",
    "    #Nearest Neighbor\n",
    "    neighbors.KNeighborsClassifier(),\n",
    "    \n",
    "    #SVM\n",
    "    svm.SVC(probability=True),\n",
    "    svm.NuSVC(probability=True),\n",
    "    svm.LinearSVC(),\n",
    "    \n",
    "    #Trees    \n",
    "    tree.DecisionTreeClassifier(),\n",
    "    tree.ExtraTreeClassifier(),\n",
    "    \n",
    "    #Discriminant Analysis\n",
    "    discriminant_analysis.LinearDiscriminantAnalysis(),\n",
    "    discriminant_analysis.QuadraticDiscriminantAnalysis(),    \n",
    "    ]"
   ]
  },
  {
   "cell_type": "markdown",
   "metadata": {},
   "source": [
    "The feature engeneering: "
   ]
  },
  {
   "cell_type": "code",
   "execution_count": 355,
   "metadata": {},
   "outputs": [],
   "source": [
    "import pandas\n",
    "input_dataframe = pandas.read_csv(\"train.csv\")"
   ]
  },
  {
   "cell_type": "code",
   "execution_count": 356,
   "metadata": {},
   "outputs": [
    {
     "data": {
      "text/html": [
       "<div>\n",
       "<style scoped>\n",
       "    .dataframe tbody tr th:only-of-type {\n",
       "        vertical-align: middle;\n",
       "    }\n",
       "\n",
       "    .dataframe tbody tr th {\n",
       "        vertical-align: top;\n",
       "    }\n",
       "\n",
       "    .dataframe thead th {\n",
       "        text-align: right;\n",
       "    }\n",
       "</style>\n",
       "<table border=\"1\" class=\"dataframe\">\n",
       "  <thead>\n",
       "    <tr style=\"text-align: right;\">\n",
       "      <th></th>\n",
       "      <th>PassengerId</th>\n",
       "      <th>Survived</th>\n",
       "      <th>Pclass</th>\n",
       "      <th>Age</th>\n",
       "      <th>SibSp</th>\n",
       "      <th>Parch</th>\n",
       "      <th>Fare</th>\n",
       "    </tr>\n",
       "  </thead>\n",
       "  <tbody>\n",
       "    <tr>\n",
       "      <th>count</th>\n",
       "      <td>891.000000</td>\n",
       "      <td>891.000000</td>\n",
       "      <td>891.000000</td>\n",
       "      <td>714.000000</td>\n",
       "      <td>891.000000</td>\n",
       "      <td>891.000000</td>\n",
       "      <td>891.000000</td>\n",
       "    </tr>\n",
       "    <tr>\n",
       "      <th>mean</th>\n",
       "      <td>446.000000</td>\n",
       "      <td>0.383838</td>\n",
       "      <td>2.308642</td>\n",
       "      <td>29.699118</td>\n",
       "      <td>0.523008</td>\n",
       "      <td>0.381594</td>\n",
       "      <td>32.204208</td>\n",
       "    </tr>\n",
       "    <tr>\n",
       "      <th>std</th>\n",
       "      <td>257.353842</td>\n",
       "      <td>0.486592</td>\n",
       "      <td>0.836071</td>\n",
       "      <td>14.526497</td>\n",
       "      <td>1.102743</td>\n",
       "      <td>0.806057</td>\n",
       "      <td>49.693429</td>\n",
       "    </tr>\n",
       "    <tr>\n",
       "      <th>min</th>\n",
       "      <td>1.000000</td>\n",
       "      <td>0.000000</td>\n",
       "      <td>1.000000</td>\n",
       "      <td>0.420000</td>\n",
       "      <td>0.000000</td>\n",
       "      <td>0.000000</td>\n",
       "      <td>0.000000</td>\n",
       "    </tr>\n",
       "    <tr>\n",
       "      <th>25%</th>\n",
       "      <td>223.500000</td>\n",
       "      <td>0.000000</td>\n",
       "      <td>2.000000</td>\n",
       "      <td>20.125000</td>\n",
       "      <td>0.000000</td>\n",
       "      <td>0.000000</td>\n",
       "      <td>7.910400</td>\n",
       "    </tr>\n",
       "    <tr>\n",
       "      <th>50%</th>\n",
       "      <td>446.000000</td>\n",
       "      <td>0.000000</td>\n",
       "      <td>3.000000</td>\n",
       "      <td>28.000000</td>\n",
       "      <td>0.000000</td>\n",
       "      <td>0.000000</td>\n",
       "      <td>14.454200</td>\n",
       "    </tr>\n",
       "    <tr>\n",
       "      <th>75%</th>\n",
       "      <td>668.500000</td>\n",
       "      <td>1.000000</td>\n",
       "      <td>3.000000</td>\n",
       "      <td>38.000000</td>\n",
       "      <td>1.000000</td>\n",
       "      <td>0.000000</td>\n",
       "      <td>31.000000</td>\n",
       "    </tr>\n",
       "    <tr>\n",
       "      <th>max</th>\n",
       "      <td>891.000000</td>\n",
       "      <td>1.000000</td>\n",
       "      <td>3.000000</td>\n",
       "      <td>80.000000</td>\n",
       "      <td>8.000000</td>\n",
       "      <td>6.000000</td>\n",
       "      <td>512.329200</td>\n",
       "    </tr>\n",
       "  </tbody>\n",
       "</table>\n",
       "</div>"
      ],
      "text/plain": [
       "       PassengerId    Survived      Pclass         Age       SibSp  \\\n",
       "count   891.000000  891.000000  891.000000  714.000000  891.000000   \n",
       "mean    446.000000    0.383838    2.308642   29.699118    0.523008   \n",
       "std     257.353842    0.486592    0.836071   14.526497    1.102743   \n",
       "min       1.000000    0.000000    1.000000    0.420000    0.000000   \n",
       "25%     223.500000    0.000000    2.000000   20.125000    0.000000   \n",
       "50%     446.000000    0.000000    3.000000   28.000000    0.000000   \n",
       "75%     668.500000    1.000000    3.000000   38.000000    1.000000   \n",
       "max     891.000000    1.000000    3.000000   80.000000    8.000000   \n",
       "\n",
       "            Parch        Fare  \n",
       "count  891.000000  891.000000  \n",
       "mean     0.381594   32.204208  \n",
       "std      0.806057   49.693429  \n",
       "min      0.000000    0.000000  \n",
       "25%      0.000000    7.910400  \n",
       "50%      0.000000   14.454200  \n",
       "75%      0.000000   31.000000  \n",
       "max      6.000000  512.329200  "
      ]
     },
     "execution_count": 356,
     "metadata": {},
     "output_type": "execute_result"
    }
   ],
   "source": [
    "input_dataframe.describe()"
   ]
  },
  {
   "cell_type": "code",
   "execution_count": 357,
   "metadata": {},
   "outputs": [],
   "source": [
    "input_dataframe['Age'].fillna(input_dataframe['Age'].median(), inplace = True)\n",
    "input_dataframe['Embarked'].fillna(input_dataframe['Embarked'].mode()[0], inplace = True)\n",
    "input_dataframe['Fare'].fillna(input_dataframe['Fare'].median(), inplace = True)"
   ]
  },
  {
   "cell_type": "code",
   "execution_count": 358,
   "metadata": {},
   "outputs": [],
   "source": [
    "from sklearn.preprocessing import LabelEncoder\n",
    "le = LabelEncoder()\n",
    "input_dataframe[\"Embarked\"] = le.fit_transform(input_dataframe[\"Embarked\"].astype(str))\n",
    "input_dataframe[\"Cabin\"] = le.fit_transform(input_dataframe[\"Cabin\"].astype(str))\n",
    "input_dataframe[\"Sex\"] = le.fit_transform(input_dataframe[\"Sex\"].astype(str))"
   ]
  },
  {
   "cell_type": "code",
   "execution_count": 359,
   "metadata": {},
   "outputs": [],
   "source": [
    "# add feature of being in the same cabin (travelling alone)\n",
    "# Create new feature FamilySize as a combination of SibSp and Parch\n",
    "input_dataframe['FamilySize'] = input_dataframe['SibSp'] + input_dataframe['Parch'] + 1\n",
    "# Create new feature IsAlone from FamilySize\n",
    "input_dataframe['IsAlone'] = 0\n",
    "input_dataframe.loc[input_dataframe['FamilySize'] == 1, 'IsAlone'] = 1\n",
    "\n",
    "\n",
    "# Mapping Fare\n",
    "input_dataframe.loc[ input_dataframe['Fare'] <= 7.91, 'Fare'] = 0\n",
    "input_dataframe.loc[(input_dataframe['Fare'] > 7.91) & (input_dataframe['Fare'] <= 14.454), 'Fare'] = 1\n",
    "input_dataframe.loc[(input_dataframe['Fare'] > 14.454) & (input_dataframe['Fare'] <= 31), 'Fare']   = 2\n",
    "input_dataframe.loc[ input_dataframe['Fare'] > 31, 'Fare'] = 3\n",
    "input_dataframe['Fare'] = input_dataframe['Fare'].astype(int)\n",
    "\n",
    "# Mapping Age\n",
    "input_dataframe.loc[input_dataframe['Age'] <= 16, 'Age'] = 0\n",
    "input_dataframe.loc[(input_dataframe['Age'] > 16) & (input_dataframe['Age'] <= 32), 'Age'] = 1\n",
    "input_dataframe.loc[(input_dataframe['Age'] > 32) & (input_dataframe['Age'] <= 48), 'Age'] = 2\n",
    "input_dataframe.loc[(input_dataframe['Age'] > 48) & (input_dataframe['Age'] <= 64), 'Age'] = 3\n",
    "input_dataframe.loc[input_dataframe['Age'] > 64, 'Age'] = 4"
   ]
  },
  {
   "cell_type": "code",
   "execution_count": 360,
   "metadata": {},
   "outputs": [
    {
     "data": {
      "text/html": [
       "<div>\n",
       "<style scoped>\n",
       "    .dataframe tbody tr th:only-of-type {\n",
       "        vertical-align: middle;\n",
       "    }\n",
       "\n",
       "    .dataframe tbody tr th {\n",
       "        vertical-align: top;\n",
       "    }\n",
       "\n",
       "    .dataframe thead th {\n",
       "        text-align: right;\n",
       "    }\n",
       "</style>\n",
       "<table border=\"1\" class=\"dataframe\">\n",
       "  <thead>\n",
       "    <tr style=\"text-align: right;\">\n",
       "      <th></th>\n",
       "      <th>PassengerId</th>\n",
       "      <th>Survived</th>\n",
       "      <th>Pclass</th>\n",
       "      <th>Name</th>\n",
       "      <th>Sex</th>\n",
       "      <th>Age</th>\n",
       "      <th>SibSp</th>\n",
       "      <th>Parch</th>\n",
       "      <th>Ticket</th>\n",
       "      <th>Fare</th>\n",
       "      <th>Cabin</th>\n",
       "      <th>Embarked</th>\n",
       "      <th>FamilySize</th>\n",
       "      <th>IsAlone</th>\n",
       "    </tr>\n",
       "  </thead>\n",
       "  <tbody>\n",
       "    <tr>\n",
       "      <th>0</th>\n",
       "      <td>1</td>\n",
       "      <td>0</td>\n",
       "      <td>3</td>\n",
       "      <td>Braund, Mr. Owen Harris</td>\n",
       "      <td>1</td>\n",
       "      <td>1.0</td>\n",
       "      <td>1</td>\n",
       "      <td>0</td>\n",
       "      <td>A/5 21171</td>\n",
       "      <td>0</td>\n",
       "      <td>147</td>\n",
       "      <td>2</td>\n",
       "      <td>2</td>\n",
       "      <td>0</td>\n",
       "    </tr>\n",
       "    <tr>\n",
       "      <th>1</th>\n",
       "      <td>2</td>\n",
       "      <td>1</td>\n",
       "      <td>1</td>\n",
       "      <td>Cumings, Mrs. John Bradley (Florence Briggs Th...</td>\n",
       "      <td>0</td>\n",
       "      <td>2.0</td>\n",
       "      <td>1</td>\n",
       "      <td>0</td>\n",
       "      <td>PC 17599</td>\n",
       "      <td>3</td>\n",
       "      <td>81</td>\n",
       "      <td>0</td>\n",
       "      <td>2</td>\n",
       "      <td>0</td>\n",
       "    </tr>\n",
       "    <tr>\n",
       "      <th>2</th>\n",
       "      <td>3</td>\n",
       "      <td>1</td>\n",
       "      <td>3</td>\n",
       "      <td>Heikkinen, Miss. Laina</td>\n",
       "      <td>0</td>\n",
       "      <td>1.0</td>\n",
       "      <td>0</td>\n",
       "      <td>0</td>\n",
       "      <td>STON/O2. 3101282</td>\n",
       "      <td>1</td>\n",
       "      <td>147</td>\n",
       "      <td>2</td>\n",
       "      <td>1</td>\n",
       "      <td>1</td>\n",
       "    </tr>\n",
       "    <tr>\n",
       "      <th>3</th>\n",
       "      <td>4</td>\n",
       "      <td>1</td>\n",
       "      <td>1</td>\n",
       "      <td>Futrelle, Mrs. Jacques Heath (Lily May Peel)</td>\n",
       "      <td>0</td>\n",
       "      <td>2.0</td>\n",
       "      <td>1</td>\n",
       "      <td>0</td>\n",
       "      <td>113803</td>\n",
       "      <td>3</td>\n",
       "      <td>55</td>\n",
       "      <td>2</td>\n",
       "      <td>2</td>\n",
       "      <td>0</td>\n",
       "    </tr>\n",
       "    <tr>\n",
       "      <th>4</th>\n",
       "      <td>5</td>\n",
       "      <td>0</td>\n",
       "      <td>3</td>\n",
       "      <td>Allen, Mr. William Henry</td>\n",
       "      <td>1</td>\n",
       "      <td>2.0</td>\n",
       "      <td>0</td>\n",
       "      <td>0</td>\n",
       "      <td>373450</td>\n",
       "      <td>1</td>\n",
       "      <td>147</td>\n",
       "      <td>2</td>\n",
       "      <td>1</td>\n",
       "      <td>1</td>\n",
       "    </tr>\n",
       "  </tbody>\n",
       "</table>\n",
       "</div>"
      ],
      "text/plain": [
       "   PassengerId  Survived  Pclass  \\\n",
       "0            1         0       3   \n",
       "1            2         1       1   \n",
       "2            3         1       3   \n",
       "3            4         1       1   \n",
       "4            5         0       3   \n",
       "\n",
       "                                                Name  Sex  Age  SibSp  Parch  \\\n",
       "0                            Braund, Mr. Owen Harris    1  1.0      1      0   \n",
       "1  Cumings, Mrs. John Bradley (Florence Briggs Th...    0  2.0      1      0   \n",
       "2                             Heikkinen, Miss. Laina    0  1.0      0      0   \n",
       "3       Futrelle, Mrs. Jacques Heath (Lily May Peel)    0  2.0      1      0   \n",
       "4                           Allen, Mr. William Henry    1  2.0      0      0   \n",
       "\n",
       "             Ticket  Fare  Cabin  Embarked  FamilySize  IsAlone  \n",
       "0         A/5 21171     0    147         2           2        0  \n",
       "1          PC 17599     3     81         0           2        0  \n",
       "2  STON/O2. 3101282     1    147         2           1        1  \n",
       "3            113803     3     55         2           2        0  \n",
       "4            373450     1    147         2           1        1  "
      ]
     },
     "execution_count": 360,
     "metadata": {},
     "output_type": "execute_result"
    }
   ],
   "source": [
    "input_dataframe.head()"
   ]
  },
  {
   "cell_type": "code",
   "execution_count": 361,
   "metadata": {},
   "outputs": [],
   "source": [
    "#set(input_dataframe['Ticket'])"
   ]
  },
  {
   "cell_type": "code",
   "execution_count": 362,
   "metadata": {},
   "outputs": [],
   "source": [
    "def regex(column):\n",
    "    import re\n",
    "\n",
    "    matches = []\n",
    "    for row in column:\n",
    "        match = re.match('.* ', row)\n",
    "        if match!=None:\n",
    "            rematch = match[0]\n",
    "            for character in ['.', '/', ' ']:\n",
    "                rematch = rematch.replace(character, \"\", 10)\n",
    "\n",
    "            #print(rematch)\n",
    "            matches.append(rematch)\n",
    "        else:\n",
    "            matches.append('no match')\n",
    "            \n",
    "    return matches"
   ]
  },
  {
   "cell_type": "code",
   "execution_count": 363,
   "metadata": {},
   "outputs": [],
   "source": [
    "def regex_name(column):\n",
    "    import re\n",
    "\n",
    "    matches = []\n",
    "    for row in column:\n",
    "        match = re.match('.*,', row)\n",
    "        if match!=None:\n",
    "            rematch = match[0]\n",
    "            #print(rematch)\n",
    "            matches.append(rematch)\n",
    "        else:\n",
    "            matches.append('no match')\n",
    "            \n",
    "    return matches"
   ]
  },
  {
   "cell_type": "code",
   "execution_count": 364,
   "metadata": {},
   "outputs": [],
   "source": [
    "input_dataframe['Ticket'] = regex(input_dataframe['Ticket'])\n",
    "input_dataframe['Name'] = regex_name(input_dataframe['Name'])   "
   ]
  },
  {
   "cell_type": "code",
   "execution_count": 365,
   "metadata": {},
   "outputs": [],
   "source": [
    "set(input_dataframe['Name'])\n",
    "input_dataframe['Name'] = le.fit_transform(input_dataframe['Name'].astype(str))"
   ]
  },
  {
   "cell_type": "code",
   "execution_count": 366,
   "metadata": {},
   "outputs": [
    {
     "data": {
      "text/plain": [
       "0            A5\n",
       "1            PC\n",
       "2        STONO2\n",
       "3      no match\n",
       "4      no match\n",
       "         ...   \n",
       "886    no match\n",
       "887    no match\n",
       "888          WC\n",
       "889    no match\n",
       "890    no match\n",
       "Name: Ticket, Length: 891, dtype: object"
      ]
     },
     "execution_count": 366,
     "metadata": {},
     "output_type": "execute_result"
    }
   ],
   "source": [
    "input_dataframe['Ticket']"
   ]
  },
  {
   "cell_type": "code",
   "execution_count": 367,
   "metadata": {},
   "outputs": [],
   "source": [
    "input_dataframe['Ticket'] = le.fit_transform(input_dataframe['Ticket'].astype(str))"
   ]
  },
  {
   "cell_type": "code",
   "execution_count": 368,
   "metadata": {},
   "outputs": [
    {
     "data": {
      "text/plain": [
       "0       1\n",
       "1       9\n",
       "2      25\n",
       "3      29\n",
       "4      29\n",
       "       ..\n",
       "886    29\n",
       "887    29\n",
       "888    27\n",
       "889    29\n",
       "890    29\n",
       "Name: Ticket, Length: 891, dtype: int64"
      ]
     },
     "execution_count": 368,
     "metadata": {},
     "output_type": "execute_result"
    }
   ],
   "source": [
    "input_dataframe['Ticket']"
   ]
  },
  {
   "cell_type": "code",
   "execution_count": 369,
   "metadata": {},
   "outputs": [
    {
     "data": {
      "text/plain": [
       "Index(['PassengerId', 'Survived', 'Pclass', 'Name', 'Sex', 'Age', 'SibSp',\n",
       "       'Parch', 'Ticket', 'Fare', 'Cabin', 'Embarked', 'FamilySize',\n",
       "       'IsAlone'],\n",
       "      dtype='object')"
      ]
     },
     "execution_count": 369,
     "metadata": {},
     "output_type": "execute_result"
    }
   ],
   "source": [
    "input_dataframe.columns"
   ]
  },
  {
   "cell_type": "code",
   "execution_count": 370,
   "metadata": {},
   "outputs": [
    {
     "data": {
      "text/html": [
       "<div>\n",
       "<style scoped>\n",
       "    .dataframe tbody tr th:only-of-type {\n",
       "        vertical-align: middle;\n",
       "    }\n",
       "\n",
       "    .dataframe tbody tr th {\n",
       "        vertical-align: top;\n",
       "    }\n",
       "\n",
       "    .dataframe thead th {\n",
       "        text-align: right;\n",
       "    }\n",
       "</style>\n",
       "<table border=\"1\" class=\"dataframe\">\n",
       "  <thead>\n",
       "    <tr style=\"text-align: right;\">\n",
       "      <th></th>\n",
       "      <th>PassengerId</th>\n",
       "      <th>Survived</th>\n",
       "      <th>Pclass</th>\n",
       "      <th>Name</th>\n",
       "      <th>Sex</th>\n",
       "      <th>Age</th>\n",
       "      <th>SibSp</th>\n",
       "      <th>Parch</th>\n",
       "      <th>Ticket</th>\n",
       "      <th>Fare</th>\n",
       "      <th>Cabin</th>\n",
       "      <th>Embarked</th>\n",
       "      <th>FamilySize</th>\n",
       "      <th>IsAlone</th>\n",
       "    </tr>\n",
       "  </thead>\n",
       "  <tbody>\n",
       "    <tr>\n",
       "      <th>0</th>\n",
       "      <td>1</td>\n",
       "      <td>0</td>\n",
       "      <td>3</td>\n",
       "      <td>73</td>\n",
       "      <td>1</td>\n",
       "      <td>1.0</td>\n",
       "      <td>1</td>\n",
       "      <td>0</td>\n",
       "      <td>1</td>\n",
       "      <td>0</td>\n",
       "      <td>147</td>\n",
       "      <td>2</td>\n",
       "      <td>2</td>\n",
       "      <td>0</td>\n",
       "    </tr>\n",
       "    <tr>\n",
       "      <th>1</th>\n",
       "      <td>2</td>\n",
       "      <td>1</td>\n",
       "      <td>1</td>\n",
       "      <td>136</td>\n",
       "      <td>0</td>\n",
       "      <td>2.0</td>\n",
       "      <td>1</td>\n",
       "      <td>0</td>\n",
       "      <td>9</td>\n",
       "      <td>3</td>\n",
       "      <td>81</td>\n",
       "      <td>0</td>\n",
       "      <td>2</td>\n",
       "      <td>0</td>\n",
       "    </tr>\n",
       "  </tbody>\n",
       "</table>\n",
       "</div>"
      ],
      "text/plain": [
       "   PassengerId  Survived  Pclass  Name  Sex  Age  SibSp  Parch  Ticket  Fare  \\\n",
       "0            1         0       3    73    1  1.0      1      0       1     0   \n",
       "1            2         1       1   136    0  2.0      1      0       9     3   \n",
       "\n",
       "   Cabin  Embarked  FamilySize  IsAlone  \n",
       "0    147         2           2        0  \n",
       "1     81         0           2        0  "
      ]
     },
     "execution_count": 370,
     "metadata": {},
     "output_type": "execute_result"
    }
   ],
   "source": [
    "input_dataframe.head(2)"
   ]
  },
  {
   "cell_type": "code",
   "execution_count": 371,
   "metadata": {},
   "outputs": [],
   "source": [
    "import pandas as pd\n",
    "import seaborn as sns\n",
    "import matplotlib.pyplot as plt\n",
    "\n",
    "# Compute the correlation matrix\n",
    "corr = input_dataframe.corr()"
   ]
  },
  {
   "cell_type": "code",
   "execution_count": 372,
   "metadata": {},
   "outputs": [
    {
     "data": {
      "text/plain": [
       "<AxesSubplot:>"
      ]
     },
     "execution_count": 372,
     "metadata": {},
     "output_type": "execute_result"
    },
    {
     "data": {
      "image/png": "[encoded data removed]",
      "text/plain": [
       "<Figure size 792x648 with 2 Axes>"
      ]
     },
     "metadata": {
      "needs_background": "light"
     },
     "output_type": "display_data"
    }
   ],
   "source": [
    "# Set up the matplotlib figure\n",
    "f, ax = plt.subplots(figsize=(11, 9))\n",
    "\n",
    "# Draw the heatmap with the mask and correct aspect ratio\n",
    "sns.heatmap(corr, cmap=cmap, center=0,\n",
    "            square=True, linewidths=.5, cbar_kws={\"shrink\": .5})\n",
    "\n",
    "# pclass, sex, fare, cabin, embarked, family size, is alone"
   ]
  },
  {
   "cell_type": "markdown",
   "metadata": {},
   "source": [
    "get to categorical data"
   ]
  },
  {
   "cell_type": "code",
   "execution_count": 373,
   "metadata": {},
   "outputs": [],
   "source": [
    "matX = input_dataframe[['Pclass', 'Name', 'Sex', 'SibSp', 'Age', \n",
    "       'Parch', 'Fare', 'Cabin', 'Embarked', 'FamilySize',\n",
    "       'IsAlone']]\n",
    "\n",
    "# 'Ticket'"
   ]
  },
  {
   "cell_type": "code",
   "execution_count": 374,
   "metadata": {},
   "outputs": [
    {
     "data": {
      "text/plain": [
       "0.8139013452914798"
      ]
     },
     "execution_count": 374,
     "metadata": {},
     "output_type": "execute_result"
    }
   ],
   "source": [
    "from sklearn import model_selection\n",
    "labels = input_dataframe['Survived']\n",
    "train, test, labels_train, labels_test = model_selection.train_test_split(matX, labels, random_state = 0, test_size=0.5)\n",
    "\n",
    "from sklearn.ensemble import RandomForestClassifier\n",
    "\n",
    "clf = RandomForestClassifier(n_estimators=200, n_jobs=-1)\n",
    "fitted = clf.fit(train, labels_train)\n",
    "predicted_labels = fitted.predict(test)\n",
    "\n",
    "from sklearn.metrics import accuracy_score\n",
    "\n",
    "accuracy_score(predicted_labels, labels_test)"
   ]
  },
  {
   "cell_type": "code",
   "execution_count": 375,
   "metadata": {},
   "outputs": [],
   "source": [
    "import warnings\n",
    "# some of the methods do no converge\n",
    "warnings.filterwarnings(\"ignore\")\n",
    "\n",
    "from sklearn.metrics import accuracy_score\n",
    "from sklearn.model_selection import cross_validate\n",
    "import numpy as np\n",
    "\n",
    "dict_cv = {}\n",
    "\n",
    "for method in methods:\n",
    "    clf = method.fit(train, labels_train)\n",
    "    predicted_labels = clf.predict(test)\n",
    "    cv_results = model_selection.cross_validate(method, train, labels_train, cv  = 3)\n",
    "    \n",
    "    dict_cv[method]=np.mean(cv_results['test_score'])"
   ]
  },
  {
   "cell_type": "code",
   "execution_count": 376,
   "metadata": {},
   "outputs": [
    {
     "name": "stdout",
     "output_type": "stream",
     "text": [
      "{AdaBoostClassifier(): 0.7371213495374569, BaggingClassifier(): 0.7348237499244211, ExtraTreesClassifier(): 0.7257391619807727, GradientBoostingClassifier(): 0.7618356611645202, RandomForestClassifier(): 0.7144779007195114, GaussianProcessClassifier(): 0.5708476933309149, LogisticRegressionCV(): 0.7865802043654392, PassiveAggressiveClassifier(): 0.609030171110708, RidgeClassifierCV(alphas=array([ 0.1,  1. , 10. ])): 0.8045377592357458, SGDClassifier(): 0.5866588064574642, Perceptron(): 0.6224076425418708, BernoulliNB(): 0.7526754942862325, GaussianNB(): 0.7640879134167724, KNeighborsClassifier(): 0.5955922365318339, SVC(probability=True): 0.6403803131991052, NuSVC(probability=True): 0.6135800229759961, LinearSVC(): 0.6741338654090332, DecisionTreeClassifier(): 0.6988481770360965, ExtraTreeClassifier(): 0.692182115000907, LinearDiscriminantAnalysis(): 0.8045377592357458, QuadraticDiscriminantAnalysis(): 0.7012667029445553}\n"
     ]
    }
   ],
   "source": [
    "print(dict_cv)"
   ]
  },
  {
   "cell_type": "code",
   "execution_count": 377,
   "metadata": {},
   "outputs": [],
   "source": [
    "max_key = max(dict_cv, key=dict_cv.get)"
   ]
  },
  {
   "cell_type": "code",
   "execution_count": 378,
   "metadata": {},
   "outputs": [
    {
     "data": {
      "text/plain": [
       "RidgeClassifierCV(alphas=array([ 0.1,  1. , 10. ]))"
      ]
     },
     "execution_count": 378,
     "metadata": {},
     "output_type": "execute_result"
    }
   ],
   "source": [
    "max_key"
   ]
  },
  {
   "cell_type": "markdown",
   "metadata": {},
   "source": [
    "Now time to apply it to the test .csv"
   ]
  },
  {
   "cell_type": "code",
   "execution_count": 379,
   "metadata": {},
   "outputs": [],
   "source": [
    "test_dataframe = pandas.read_csv(\"test.csv\")"
   ]
  },
  {
   "cell_type": "code",
   "execution_count": 380,
   "metadata": {},
   "outputs": [],
   "source": [
    "test_dataframe[\"Embarked\"] = le.fit_transform(test_dataframe[\"Embarked\"].astype(str))\n",
    "test_dataframe[\"Cabin\"] = le.fit_transform(test_dataframe[\"Cabin\"].astype(str))\n",
    "test_dataframe[\"Sex\"] = le.fit_transform(test_dataframe[\"Sex\"].astype(str))\n",
    "test_dataframe['Age'].fillna(test_dataframe['Age'].median(), inplace = True)\n",
    "test_dataframe['Embarked'].fillna(test_dataframe['Embarked'].mode()[0], inplace = True)\n",
    "test_dataframe['Fare'].fillna(test_dataframe['Fare'].median(), inplace = True)\n",
    "\n",
    "test_dataframe['FamilySize'] = test_dataframe['SibSp'] + test_dataframe['Parch'] + 1\n",
    "# Create new feature IsAlone from FamilySize\n",
    "test_dataframe['IsAlone'] = 0\n",
    "test_dataframe.loc[test_dataframe['FamilySize'] == 1, 'IsAlone'] = 1\n",
    "\n",
    "\n",
    "# Mapping Fare\n",
    "test_dataframe.loc[ test_dataframe['Fare'] <= 7.91, 'Fare'] = 0\n",
    "test_dataframe.loc[(test_dataframe['Fare'] > 7.91) & (test_dataframe['Fare'] <= 14.454), 'Fare'] = 1\n",
    "test_dataframe.loc[(test_dataframe['Fare'] > 14.454) & (test_dataframe['Fare'] <= 31), 'Fare']   = 2\n",
    "test_dataframe.loc[ test_dataframe['Fare'] > 31, 'Fare'] = 3\n",
    "test_dataframe['Fare'] = test_dataframe['Fare'].astype(int)\n",
    "\n",
    "# Mapping Age\n",
    "test_dataframe.loc[test_dataframe['Age'] <= 16, 'Age'] = 0\n",
    "test_dataframe.loc[(test_dataframe['Age'] > 16) & (test_dataframe['Age'] <= 32), 'Age'] = 1\n",
    "test_dataframe.loc[(test_dataframe['Age'] > 32) & (test_dataframe['Age'] <= 48), 'Age'] = 2\n",
    "test_dataframe.loc[(test_dataframe['Age'] > 48) & (test_dataframe['Age'] <= 64), 'Age'] = 3\n",
    "test_dataframe.loc[test_dataframe['Age'] > 64, 'Age'] = 4\n",
    "\n",
    "test_dataframe['Ticket'] = regex(test_dataframe['Ticket'])\n",
    "test_dataframe['Name'] = regex_name(test_dataframe['Name']) \n",
    "test_dataframe['Ticket'] = le.fit_transform(test_dataframe['Ticket'].astype(str))\n",
    "test_dataframe['Name'] = le.fit_transform(test_dataframe['Name'].astype(str))"
   ]
  },
  {
   "cell_type": "code",
   "execution_count": 381,
   "metadata": {},
   "outputs": [],
   "source": [
    "matTest = test_dataframe[['Pclass', 'Name', 'Sex', 'SibSp', 'Age', \n",
    "       'Parch', 'Fare', 'Cabin', 'Embarked', 'FamilySize',\n",
    "       'IsAlone']]"
   ]
  },
  {
   "cell_type": "code",
   "execution_count": 382,
   "metadata": {},
   "outputs": [],
   "source": [
    "# train on the full data matX\n",
    "#fitted.fit(matX, labels)\n",
    "predicted_labels = fitted.predict(matTest)\n",
    "#print('accuracy', accuracy_score(labels_test, predicted_labels)) - we don't have the true labels from test set"
   ]
  },
  {
   "cell_type": "code",
   "execution_count": 383,
   "metadata": {},
   "outputs": [],
   "source": [
    "array = np.array([test_dataframe['PassengerId'], predicted_labels])\n",
    "result_random_forest = pandas.DataFrame(array.T, columns=['PassengerId', \"Survived\"])"
   ]
  },
  {
   "cell_type": "code",
   "execution_count": 384,
   "metadata": {},
   "outputs": [],
   "source": [
    "result_random_forest.to_csv('submissions/RandomForestPclassNameSexSibSpAgeParchFareCabinEmbarkedFamilySizeIsAlone.csv',index=False)"
   ]
  },
  {
   "cell_type": "code",
   "execution_count": null,
   "metadata": {},
   "outputs": [],
   "source": []
  }
 ],
 "metadata": {
  "kernelspec": {
   "display_name": "Python 3",
   "language": "python",
   "name": "python3"
  },
  "language_info": {
   "codemirror_mode": {
    "name": "ipython",
    "version": 3
   },
   "file_extension": ".py",
   "mimetype": "text/x-python",
   "name": "python",
   "nbconvert_exporter": "python",
   "pygments_lexer": "ipython3",
   "version": "3.7.3"
  }
 },
 "nbformat": 4,
 "nbformat_minor": 2
}
